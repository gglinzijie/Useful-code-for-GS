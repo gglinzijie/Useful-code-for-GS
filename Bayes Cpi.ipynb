{
 "cells": [
  {
   "cell_type": "markdown",
   "metadata": {},
   "source": [
    "# Platform information"
   ]
  },
  {
   "cell_type": "code",
   "execution_count": 1,
   "metadata": {},
   "outputs": [
    {
     "data": {
      "text/html": [
       "'windows'"
      ],
      "text/latex": [
       "'windows'"
      ],
      "text/markdown": [
       "'windows'"
      ],
      "text/plain": [
       "[1] \"windows\""
      ]
     },
     "metadata": {},
     "output_type": "display_data"
    },
    {
     "data": {
      "text/html": [
       "'R version 3.5.1 (2018-07-02)'"
      ],
      "text/latex": [
       "'R version 3.5.1 (2018-07-02)'"
      ],
      "text/markdown": [
       "'R version 3.5.1 (2018-07-02)'"
      ],
      "text/plain": [
       "[1] \"R version 3.5.1 (2018-07-02)\""
      ]
     },
     "metadata": {},
     "output_type": "display_data"
    },
    {
     "data": {
      "text/html": [
       "'Intel(R) Core(TM) i7-7700HQ CPU @ 2.80GHz'"
      ],
      "text/latex": [
       "'Intel(R) Core(TM) i7-7700HQ CPU @ 2.80GHz'"
      ],
      "text/markdown": [
       "'Intel(R) Core(TM) i7-7700HQ CPU @ 2.80GHz'"
      ],
      "text/plain": [
       "[1] \"Intel(R) Core(TM) i7-7700HQ CPU @ 2.80GHz\""
      ]
     },
     "metadata": {},
     "output_type": "display_data"
    },
    {
     "data": {
      "text/html": [
       "8"
      ],
      "text/latex": [
       "8"
      ],
      "text/markdown": [
       "8"
      ],
      "text/plain": [
       "[1] 8"
      ]
     },
     "metadata": {},
     "output_type": "display_data"
    },
    {
     "data": {
      "text/plain": [
       "8.59 GB"
      ]
     },
     "metadata": {},
     "output_type": "display_data"
    }
   ],
   "source": [
    "library(benchmarkme)\n",
    "get_platform_info()$OS.type\n",
    "get_r_version()$version.string\n",
    "get_cpu()$model_name;get_cpu()$no_of_cores\n",
    "get_ram()"
   ]
  },
  {
   "cell_type": "markdown",
   "metadata": {},
   "source": [
    "# Parallel computation"
   ]
  },
  {
   "cell_type": "code",
   "execution_count": 2,
   "metadata": {},
   "outputs": [
    {
     "name": "stderr",
     "output_type": "stream",
     "text": [
      "Loading required package: foreach\n",
      "Loading required package: iterators\n",
      "Loading required package: parallel\n"
     ]
    }
   ],
   "source": [
    "library(doParallel)\n",
    "library(foreach)\n",
    "cl<-makeCluster(8) "
   ]
  },
  {
   "cell_type": "markdown",
   "metadata": {},
   "source": [
    "# Loading data"
   ]
  },
  {
   "cell_type": "code",
   "execution_count": 3,
   "metadata": {},
   "outputs": [],
   "source": [
    "geno <-read.table(\"./Hetero_realigned_cov10_filtered3.raw\", row.names=1, header=T)\n",
    "row.names(geno)=1:240\n",
    "x <- as.matrix(geno)-1   \n",
    "pheno <- read.csv(\"./2017heteroPheno.csv\", header=T)\n",
    "attach(pheno)\n",
    "data <- data.frame(bcw=pheno$bcw,length=pheno$length,gid=1:240)"
   ]
  },
  {
   "cell_type": "code",
   "execution_count": 4,
   "metadata": {},
   "outputs": [],
   "source": [
    "rmd.x<-x[,!duplicated.matrix(x,MARGIN = 2)]"
   ]
  },
  {
   "cell_type": "markdown",
   "metadata": {},
   "source": [
    "# Parameters for cross validation"
   ]
  },
  {
   "cell_type": "code",
   "execution_count": 5,
   "metadata": {},
   "outputs": [],
   "source": [
    "repeats <- 10\n",
    "n.fold <- 5 \n",
    "n.sample <- length(pheno$bcw)    \n",
    "CM<-7"
   ]
  },
  {
   "cell_type": "markdown",
   "metadata": {},
   "source": [
    "# Bayes cpi"
   ]
  },
  {
   "cell_type": "markdown",
   "metadata": {},
   "source": [
    "I found the code from this lab\n",
    " http://www.zzlab.net/StaGen/"
   ]
  },
  {
   "cell_type": "code",
   "execution_count": 5,
   "metadata": {
    "scrolled": true
   },
   "outputs": [],
   "source": [
    "source(\"http://www.zzlab.net/sandbox/BAGS.R\")"
   ]
  },
  {
   "cell_type": "code",
   "execution_count": 8,
   "metadata": {},
   "outputs": [
    {
     "data": {
      "text/plain": [
       "    user   system  elapsed \n",
       "    1.36     2.53 14754.27 "
      ]
     },
     "metadata": {},
     "output_type": "display_data"
    }
   ],
   "source": [
    "registerDoParallel(cl)\n",
    "system.time({\n",
    "Cpi<-foreach(j=1:repeats,.combine = \"rbind\") %do% {\n",
    "        set.seed(100+3*j+1)\n",
    "        id <- sample(1:n.sample %% n.fold) + 1 \n",
    "        foreach(i=1:n.fold) %dopar% {\n",
    "         bcw_test <- data\n",
    "         m1<-bcw_test$bcw[id != i] \n",
    "         u1<-as.matrix(geno)[id != i, ]        \n",
    "         ki<-BAGS(u1, y=m1,pi=1,burn.in=1000,burn.out=2000)\n",
    "         pred<-(as.matrix(geno)[id == i, ]) %*% ki$effect\n",
    "         cor(pheno$bcw[id==i],pred)\n",
    "    }\n",
    "   }\n",
    "})\n",
    "stopImplicitCluster()"
   ]
  },
  {
   "cell_type": "code",
   "execution_count": 18,
   "metadata": {},
   "outputs": [
    {
     "data": {
      "text/html": [
       "<table>\n",
       "<tbody>\n",
       "\t<tr><th scope=row>result.1</th><td>0.2219468  </td><td>0.1594255  </td><td>0.1886464  </td><td>0.3257046  </td><td>0.008631627</td></tr>\n",
       "\t<tr><th scope=row>result.2</th><td>0.04603167</td><td>0.329667  </td><td>0.1702699 </td><td>0.05681837</td><td>0.2823873 </td></tr>\n",
       "\t<tr><th scope=row>result.3</th><td>0.1618135  </td><td>0.3293952  </td><td>-0.08750843</td><td>0.1775165  </td><td>-0.01163318</td></tr>\n",
       "\t<tr><th scope=row>result.4</th><td>0.3945332 </td><td>0.4198629 </td><td>0.02603833</td><td>0.01668889</td><td>0.1229961 </td></tr>\n",
       "\t<tr><th scope=row>result.5</th><td>0.3297482 </td><td>0.1469074 </td><td>0.1622235 </td><td>0.07863016</td><td>0.3126024 </td></tr>\n",
       "\t<tr><th scope=row>result.6</th><td>0.3477457 </td><td>0.3905192 </td><td>0.0518323 </td><td>0.07439348</td><td>0.4505462 </td></tr>\n",
       "\t<tr><th scope=row>result.7</th><td>0.3303076</td><td>0.3233216</td><td>0.1655145</td><td>0.1465404</td><td>0.4664679</td></tr>\n",
       "\t<tr><th scope=row>result.8</th><td>0.3482255 </td><td>0.1964356 </td><td>0.07313449</td><td>0.2668536 </td><td>0.2184256 </td></tr>\n",
       "\t<tr><th scope=row>result.9</th><td>0.1701746  </td><td>0.05899124 </td><td>0.2461707  </td><td>-0.09392551</td><td>0.2994342  </td></tr>\n",
       "\t<tr><th scope=row>result.10</th><td>0.1620705</td><td>0.1675907</td><td>0.1824422</td><td>0.2914718</td><td>0.1193513</td></tr>\n",
       "</tbody>\n",
       "</table>\n"
      ],
      "text/latex": [
       "\\begin{tabular}{r|lllll}\n",
       "\tresult.1 & 0.2219468   & 0.1594255   & 0.1886464   & 0.3257046   & 0.008631627\\\\\n",
       "\tresult.2 & 0.04603167 & 0.329667   & 0.1702699  & 0.05681837 & 0.2823873 \\\\\n",
       "\tresult.3 & 0.1618135   & 0.3293952   & -0.08750843 & 0.1775165   & -0.01163318\\\\\n",
       "\tresult.4 & 0.3945332  & 0.4198629  & 0.02603833 & 0.01668889 & 0.1229961 \\\\\n",
       "\tresult.5 & 0.3297482  & 0.1469074  & 0.1622235  & 0.07863016 & 0.3126024 \\\\\n",
       "\tresult.6 & 0.3477457  & 0.3905192  & 0.0518323  & 0.07439348 & 0.4505462 \\\\\n",
       "\tresult.7 & 0.3303076 & 0.3233216 & 0.1655145 & 0.1465404 & 0.4664679\\\\\n",
       "\tresult.8 & 0.3482255  & 0.1964356  & 0.07313449 & 0.2668536  & 0.2184256 \\\\\n",
       "\tresult.9 & 0.1701746   & 0.05899124  & 0.2461707   & -0.09392551 & 0.2994342  \\\\\n",
       "\tresult.10 & 0.1620705 & 0.1675907 & 0.1824422 & 0.2914718 & 0.1193513\\\\\n",
       "\\end{tabular}\n"
      ],
      "text/markdown": [
       "\n",
       "| result.1 | 0.2219468   | 0.1594255   | 0.1886464   | 0.3257046   | 0.008631627 | \n",
       "| result.2 | 0.04603167 | 0.329667   | 0.1702699  | 0.05681837 | 0.2823873  | \n",
       "| result.3 | 0.1618135   | 0.3293952   | -0.08750843 | 0.1775165   | -0.01163318 | \n",
       "| result.4 | 0.3945332  | 0.4198629  | 0.02603833 | 0.01668889 | 0.1229961  | \n",
       "| result.5 | 0.3297482  | 0.1469074  | 0.1622235  | 0.07863016 | 0.3126024  | \n",
       "| result.6 | 0.3477457  | 0.3905192  | 0.0518323  | 0.07439348 | 0.4505462  | \n",
       "| result.7 | 0.3303076 | 0.3233216 | 0.1655145 | 0.1465404 | 0.4664679 | \n",
       "| result.8 | 0.3482255  | 0.1964356  | 0.07313449 | 0.2668536  | 0.2184256  | \n",
       "| result.9 | 0.1701746   | 0.05899124  | 0.2461707   | -0.09392551 | 0.2994342   | \n",
       "| result.10 | 0.1620705 | 0.1675907 | 0.1824422 | 0.2914718 | 0.1193513 | \n",
       "\n",
       "\n"
      ],
      "text/plain": [
       "          [,1]       [,2]       [,3]        [,4]        [,5]       \n",
       "result.1  0.2219468  0.1594255  0.1886464   0.3257046   0.008631627\n",
       "result.2  0.04603167 0.329667   0.1702699   0.05681837  0.2823873  \n",
       "result.3  0.1618135  0.3293952  -0.08750843 0.1775165   -0.01163318\n",
       "result.4  0.3945332  0.4198629  0.02603833  0.01668889  0.1229961  \n",
       "result.5  0.3297482  0.1469074  0.1622235   0.07863016  0.3126024  \n",
       "result.6  0.3477457  0.3905192  0.0518323   0.07439348  0.4505462  \n",
       "result.7  0.3303076  0.3233216  0.1655145   0.1465404   0.4664679  \n",
       "result.8  0.3482255  0.1964356  0.07313449  0.2668536   0.2184256  \n",
       "result.9  0.1701746  0.05899124 0.2461707   -0.09392551 0.2994342  \n",
       "result.10 0.1620705  0.1675907  0.1824422   0.2914718   0.1193513  "
      ]
     },
     "metadata": {},
     "output_type": "display_data"
    }
   ],
   "source": [
    "Cpi"
   ]
  },
  {
   "cell_type": "code",
   "execution_count": null,
   "metadata": {},
   "outputs": [],
   "source": []
  }
 ],
 "metadata": {
  "kernelspec": {
   "display_name": "R",
   "language": "R",
   "name": "ir"
  },
  "language_info": {
   "codemirror_mode": "r",
   "file_extension": ".r",
   "mimetype": "text/x-r-source",
   "name": "R",
   "pygments_lexer": "r",
   "version": "3.5.1"
  }
 },
 "nbformat": 4,
 "nbformat_minor": 2
}
