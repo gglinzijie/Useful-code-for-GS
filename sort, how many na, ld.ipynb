{
 "cells": [
  {
   "cell_type": "code",
   "execution_count": 1,
   "metadata": {},
   "outputs": [],
   "source": [
    "geno <-read.table(\"Hetero_realigned_cov10_filtered3.raw\", row.names=1, header=T)\n",
    "colnames(geno)<-1:3928\n",
    "rownames(geno)<-1:240\n",
    "lin_map<-read.table(\"lin.map\")\n",
    "lin_map[\"id\"]=1:3928\n",
    "m<-lin_map[order(lin_map$V2),]\n",
    "sortM<-m[order(m$V1),]\n",
    "sortgeno<-geno[,sortM$id]\n",
    "colnames(sortgeno)<-1:3928"
   ]
  },
  {
   "cell_type": "code",
   "execution_count": 4,
   "metadata": {},
   "outputs": [],
   "source": [
    "m<-apply(as.matrix(sortgeno),2, function(x) sum(is.na(x)))"
   ]
  },
  {
   "cell_type": "code",
   "execution_count": 5,
   "metadata": {},
   "outputs": [],
   "source": [
    "n<-apply(as.matrix(sortgeno),1, function(x) sum(is.na(x)))"
   ]
  },
  {
   "cell_type": "code",
   "execution_count": 9,
   "metadata": {},
   "outputs": [
    {
     "data": {
      "text/html": [
       "0.00839810558500986"
      ],
      "text/latex": [
       "0.00839810558500986"
      ],
      "text/markdown": [
       "0.00839810558500986"
      ],
      "text/plain": [
       "[1] 0.008398106"
      ]
     },
     "metadata": {},
     "output_type": "display_data"
    },
    {
     "data": {
      "text/html": [
       "0.0166943477584219"
      ],
      "text/latex": [
       "0.0166943477584219"
      ],
      "text/markdown": [
       "0.0166943477584219"
      ],
      "text/plain": [
       "[1] 0.01669435"
      ]
     },
     "metadata": {},
     "output_type": "display_data"
    }
   ],
   "source": [
    "#ld\n",
    "ld <-read.table(\"../LD/plink.ld\")\n",
    "colnames(ld)<-1:3928\n",
    "rownames(ld)<-1:3928\n",
    "sortld<-ld[sortM$id,sortM$id]\n",
    "l<-(as.matrix(sortld))\n",
    "diag(l) <- NA\n",
    "mean(l,na.rm = TRUE);sd(l,na.rm = TRUE)"
   ]
  }
 ],
 "metadata": {
  "kernelspec": {
   "display_name": "R",
   "language": "R",
   "name": "ir"
  },
  "language_info": {
   "codemirror_mode": "r",
   "file_extension": ".r",
   "mimetype": "text/x-r-source",
   "name": "R",
   "pygments_lexer": "r",
   "version": "3.5.1"
  }
 },
 "nbformat": 4,
 "nbformat_minor": 2
}
