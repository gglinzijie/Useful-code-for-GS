{
 "cells": [
  {
   "cell_type": "code",
   "execution_count": 1,
   "metadata": {},
   "outputs": [
    {
     "name": "stderr",
     "output_type": "stream",
     "text": [
      "Loading required package: Rcpp\n",
      "Loading required package: RcppParallel\n",
      "\n",
      "Attaching package: 'RcppParallel'\n",
      "\n",
      "The following object is masked from 'package:Rcpp':\n",
      "\n",
      "    LdFlags\n",
      "\n",
      "Gaston set number of threads to 4. Use setThreadOptions() to modify this.\n",
      "\n",
      "Attaching package: 'gaston'\n",
      "\n",
      "The following object is masked from 'package:stats':\n",
      "\n",
      "    sigma\n",
      "\n",
      "The following objects are masked from 'package:base':\n",
      "\n",
      "    cbind, rbind\n",
      "\n"
     ]
    }
   ],
   "source": [
    "library(\"gaston\")"
   ]
  },
  {
   "cell_type": "code",
   "execution_count": 2,
   "metadata": {},
   "outputs": [],
   "source": [
    "#sort\n",
    "geno <-read.table(\"Hetero_realigned_cov10_filtered3.raw\", row.names=1, header=T)\n",
    "colnames(geno)<-1:3928\n",
    "rownames(geno)<-1:240\n",
    "lin_map<-read.table(\"raw.map\")\n",
    "lin_map[\"id\"]=1:3928\n",
    "m<-lin_map[order(lin_map$V2),]\n",
    "sortM<-m[order(m$V1),]\n",
    "sortgeno<-geno[,sortM$id]\n",
    "colnames(sortgeno)<-1:3928\n",
    "pheno <- read.csv(\"2017heteroPheno.csv\", header=T)\n",
    "attach(pheno)"
   ]
  },
  {
   "cell_type": "code",
   "execution_count": 4,
   "metadata": {},
   "outputs": [],
   "source": [
    "G<-sortgeno[,!duplicated.matrix(sortgeno,MARGIN = 2)]\n",
    "fam<-data.frame(famid=rep(NA,length(bcw)), id=1:length(bcw), father=rep(NA,length(bcw)),\n",
    "                mother=rep(NA,length(bcw)), sex=rep(NA,length(bcw)),pheno=bcw)\n",
    "bim<-data.frame(chr=sortM$V1[!duplicated.matrix(sortgeno,MARGIN = 2)], id=1:length(G), dist=rep(NA,length(G)),\n",
    "                pos=sortM$V2[!duplicated.matrix(sortgeno,MARGIN = 2)], A1=rep(NA,length(G)),A2=rep(NA,length(G)))\n",
    "x<-as.bed.matrix(as.matrix(G), fam, bim)"
   ]
  },
  {
   "cell_type": "code",
   "execution_count": 7,
   "metadata": {},
   "outputs": [],
   "source": [
    "standardize(x)<-\"mu\"\n",
    "ld<-LD(x,c(1,length(G)), measure = c(\"r2\"),trim = TRUE)\n",
    "#ld[is.na(ld)] <- 1"
   ]
  },
  {
   "cell_type": "code",
   "execution_count": 44,
   "metadata": {},
   "outputs": [],
   "source": [
    "ld.pair<-list()\n",
    "for (i in 1:(length(G)-1)){\n",
    "    ld.pair[i]<-ld[i,i+1]\n",
    "}"
   ]
  },
  {
   "cell_type": "code",
   "execution_count": 45,
   "metadata": {},
   "outputs": [
    {
     "data": {
      "text/plain": [
       "    Min.  1st Qu.   Median     Mean  3rd Qu.     Max.     NA's \n",
       "0.000000 0.001971 0.009195 0.092721 0.043879 0.986220        2 "
      ]
     },
     "metadata": {},
     "output_type": "display_data"
    }
   ],
   "source": [
    "summary(as.numeric(ld.pair))"
   ]
  },
  {
   "cell_type": "code",
   "execution_count": 46,
   "metadata": {},
   "outputs": [
    {
     "data": {
      "image/png": "[encoded data removed]",
      "text/plain": [
       "Plot with title \"Histogram of as.numeric(ld.pair)\""
      ]
     },
     "metadata": {},
     "output_type": "display_data"
    }
   ],
   "source": [
    "hist(as.numeric(ld.pair))"
   ]
  },
  {
   "cell_type": "code",
   "execution_count": 6,
   "metadata": {},
   "outputs": [],
   "source": [
    "k1<-GRM(x)"
   ]
  },
  {
   "cell_type": "code",
   "execution_count": 7,
   "metadata": {},
   "outputs": [
    {
     "name": "stdout",
     "output_type": "stream",
     "text": [
      "List of 11\n",
      " $ sigma2    : num 54.7\n",
      " $ tau       : num 70.7\n",
      " $ logL      : num -646\n",
      " $ logL0     : num -652\n",
      " $ niter     : int 5\n",
      " $ norm_grad : num 4.97e-06\n",
      " $ Py        : num [1:240] 0.1285 0.0226 0.0376 -0.1722 0.0841 ...\n",
      " $ BLUP_omega: num [1:240] 4.1179 -0.0873 0.0911 -2.4387 -3.4525 ...\n",
      " $ BLUP_beta : num 15.9\n",
      " $ varbeta   : num [1, 1] 0.228\n",
      " $ varXbeta  : num -3.04e-13\n"
     ]
    }
   ],
   "source": [
    "estimates <- lmm.aireml(bcw, K = k1, verbose = FALSE) \n",
    "str(estimates)\n"
   ]
  },
  {
   "cell_type": "code",
   "execution_count": 16,
   "metadata": {
    "scrolled": true
   },
   "outputs": [
    {
     "data": {
      "text/html": [
       "<table>\n",
       "<tbody>\n",
       "\t<tr><td>0.8859145</td></tr>\n",
       "</tbody>\n",
       "</table>\n"
      ],
      "text/latex": [
       "\\begin{tabular}{l}\n",
       "\t 0.8859145\\\\\n",
       "\\end{tabular}\n"
      ],
      "text/markdown": [
       "\n",
       "| 0.8859145 | \n",
       "\n",
       "\n"
      ],
      "text/plain": [
       "     [,1]     \n",
       "[1,] 0.8859145"
      ]
     },
     "metadata": {},
     "output_type": "display_data"
    }
   ],
   "source": [
    "cor(estimates$BLUP_beta+estimates$tau * t(k1) %*% estimates$Py,bcw)"
   ]
  },
  {
   "cell_type": "code",
   "execution_count": 41,
   "metadata": {},
   "outputs": [],
   "source": [
    "library(\"rrBLUP\")"
   ]
  },
  {
   "cell_type": "code",
   "execution_count": 45,
   "metadata": {},
   "outputs": [
    {
     "name": "stdout",
     "output_type": "stream",
     "text": [
      "List of 10\n",
      " $ sigma2    : num 47.5\n",
      " $ tau       : num [1:2] 15.4 38.1\n",
      " $ logL      : num -644\n",
      " $ logL0     : num -652\n",
      " $ niter     : int 6\n",
      " $ norm_grad : num 2.56e-06\n",
      " $ Py        : num [1:240] 0.1122 0.0189 0.0637 -0.1582 0.0834 ...\n",
      " $ BLUP_omega: num [1:240] 5.81 0.249 -0.881 -4.334 -2.818 ...\n",
      " $ BLUP_beta : num 15.9\n",
      " $ varXbeta  : num -1.52e-13\n"
     ]
    }
   ],
   "source": [
    "K1 <- A.mat(as.matrix(sortgeno[,1:300]))\n",
    "K2 <- A.mat(as.matrix(sortgeno[,301:3928]))\n",
    "estimates <-  lmm.aireml(bcw,  K = list(K1, K2), verbose = FALSE) \n",
    "str(estimates)"
   ]
  },
  {
   "cell_type": "code",
   "execution_count": 46,
   "metadata": {},
   "outputs": [
    {
     "data": {
      "text/html": [
       "0.152144345642235"
      ],
      "text/latex": [
       "0.152144345642235"
      ],
      "text/markdown": [
       "0.152144345642235"
      ],
      "text/plain": [
       "[1] 0.1521443"
      ]
     },
     "metadata": {},
     "output_type": "display_data"
    }
   ],
   "source": [
    "estimates$tau[1]/(estimates$tau[1]+estimates$tau[2]+estimates$sigma2)"
   ]
  },
  {
   "cell_type": "code",
   "execution_count": 8,
   "metadata": {},
   "outputs": [],
   "source": [
    " set.seed(1) \n",
    "n <- 100 \n",
    "q1 <- 20 \n",
    "Z1 <- matrix( rnorm(n*q1), nrow = n ) \n",
    "X <- cbind(1, 5*runif(n))\n",
    "u1 <- rnorm(q1, sd = sqrt(2)) \n",
    "y <- X %*% c(1,2) + Z1 %*% u1 + rnorm(n, sd = sqrt(3))\n",
    "q2 <- 10 \n",
    "Z2 <- matrix( rnorm(n*q2), nrow = n ) \n",
    "u2 <- rnorm(q2, sd = 1) \n",
    "y2 <- X %*% c(1,2) + Z1 %*% u1 + Z2 %*% u2 + rnorm(n, sd = sqrt(3))\n"
   ]
  },
  {
   "cell_type": "code",
   "execution_count": 9,
   "metadata": {},
   "outputs": [
    {
     "name": "stdout",
     "output_type": "stream",
     "text": [
      "List of 11\n",
      " $ sigma2    : num 3.23\n",
      " $ tau       : num 1.65\n",
      " $ logL      : num -150\n",
      " $ logL0     : num -231\n",
      " $ niter     : int 12\n",
      " $ norm_grad : num 1.29e-08\n",
      " $ Py        : num [1:100] 0.531 -0.243 0.116 0.34 -0.304 ...\n",
      " $ BLUP_omega: num [1:100] -0.443 -12.628 -1.73 5.059 5.836 ...\n",
      " $ BLUP_beta : num [1:2] 1.4 1.79\n",
      " $ varbeta   : num [1:2, 1:2] 0.134 -0.0387 -0.0387 0.016\n",
      " $ varXbeta  : num 7.6\n"
     ]
    }
   ],
   "source": [
    "K1 <- tcrossprod(Z1) \n",
    "fit <- lmm.aireml(y, X, K = K1, verbose = FALSE)  \n",
    "str(fit) "
   ]
  },
  {
   "cell_type": "code",
   "execution_count": 10,
   "metadata": {},
   "outputs": [
    {
     "name": "stdout",
     "output_type": "stream",
     "text": [
      "List of 10\n",
      " $ sigma2    : num 3.04\n",
      " $ tau       : num [1:2] 1.81 0.821\n",
      " $ logL      : num -164\n",
      " $ logL0     : num -244\n",
      " $ niter     : int 13\n",
      " $ norm_grad : num 3.02e-07\n",
      " $ Py        : num [1:100] -0.353 -0.199 0.879 0.472 0.968 ...\n",
      " $ BLUP_omega: num [1:100] 0.342 -15.406 6.239 4.559 4.361 ...\n",
      " $ BLUP_beta : num [1:2] 1.1 1.98\n",
      " $ varXbeta  : num 9.33\n"
     ]
    }
   ],
   "source": [
    "K2 <- tcrossprod(Z2) \n",
    "fit2 <- lmm.aireml(y2, X, K = list(K1, K2), verbose = FALSE) \n",
    "str(fit2)"
   ]
  },
  {
   "cell_type": "code",
   "execution_count": 11,
   "metadata": {},
   "outputs": [
    {
     "data": {
      "image/png": "[encoded data removed]",
      "text/plain": [
       "plot without title"
      ]
     },
     "metadata": {},
     "output_type": "display_data"
    }
   ],
   "source": [
    "par(mfrow = c(1, 2)) \n",
    "omega1 <- fit2$tau[1] * K1 %*% fit2$Py \n",
    "omega2 <- fit2$tau[2] * K2 %*% fit2$Py \n",
    "plot(Z1 %*% u1, omega1); abline(0, 1, lty = 2, col = 3) \n",
    "plot(Z2 %*% u2, omega2); abline(0, 1, lty = 2, col = 3)\n"
   ]
  },
  {
   "cell_type": "code",
   "execution_count": null,
   "metadata": {},
   "outputs": [],
   "source": []
  }
 ],
 "metadata": {
  "kernelspec": {
   "display_name": "R",
   "language": "R",
   "name": "ir"
  },
  "language_info": {
   "codemirror_mode": "r",
   "file_extension": ".r",
   "mimetype": "text/x-r-source",
   "name": "R",
   "pygments_lexer": "r",
   "version": "3.5.1"
  }
 },
 "nbformat": 4,
 "nbformat_minor": 2
}
