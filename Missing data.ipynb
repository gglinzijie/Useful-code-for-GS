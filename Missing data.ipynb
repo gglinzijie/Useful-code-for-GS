{
 "cells": [
  {
   "cell_type": "markdown",
   "metadata": {},
   "source": [
    "# Missing in original"
   ]
  },
  {
   "cell_type": "code",
   "execution_count": 2,
   "metadata": {},
   "outputs": [
    {
     "name": "stderr",
     "output_type": "stream",
     "text": [
      "The following objects are masked from pheno (pos = 3):\n",
      "\n",
      "    bcw, gill, i5, i7, length, no, tank, vili, X\n",
      "\n"
     ]
    }
   ],
   "source": [
    "geno <-read.table(\"./Desktop/gs_analysis/Hetero_realigned_cov10_filtered3.raw\", row.names=1, header=T)\n",
    "row.names(geno)=1:240\n",
    "x <- as.matrix(geno)-1   \n",
    "pheno <- read.csv(\"./Desktop/gs_analysis/2017heteroPheno.csv\", header=T)\n",
    "attach(pheno)"
   ]
  },
  {
   "cell_type": "code",
   "execution_count": 3,
   "metadata": {},
   "outputs": [],
   "source": [
    "Missing <- data.frame(id = c (1:240), na=rep(NA,240) )\n",
    "for (i in 1:240){\n",
    "  Missing[i,2]<-sum(is.na(geno[i,]))\n",
    "}"
   ]
  },
  {
   "cell_type": "code",
   "execution_count": 4,
   "metadata": {},
   "outputs": [
    {
     "data": {
      "text/html": [
       "187"
      ],
      "text/latex": [
       "187"
      ],
      "text/markdown": [
       "187"
      ],
      "text/plain": [
       "[1] 187"
      ]
     },
     "metadata": {},
     "output_type": "display_data"
    },
    {
     "data": {
      "text/html": [
       "<table>\n",
       "<thead><tr><th></th><th scope=col>id</th><th scope=col>na</th></tr></thead>\n",
       "<tbody>\n",
       "\t<tr><th scope=row>187</th><td>187 </td><td>3135</td></tr>\n",
       "</tbody>\n",
       "</table>\n"
      ],
      "text/latex": [
       "\\begin{tabular}{r|ll}\n",
       "  & id & na\\\\\n",
       "\\hline\n",
       "\t187 & 187  & 3135\\\\\n",
       "\\end{tabular}\n"
      ],
      "text/markdown": [
       "\n",
       "| <!--/--> | id | na | \n",
       "|---|\n",
       "| 187 | 187  | 3135 | \n",
       "\n",
       "\n"
      ],
      "text/plain": [
       "    id  na  \n",
       "187 187 3135"
      ]
     },
     "metadata": {},
     "output_type": "display_data"
    }
   ],
   "source": [
    "(which(Missing[,2]>3000))\n",
    "(Missing[187,])"
   ]
  },
  {
   "cell_type": "code",
   "execution_count": 5,
   "metadata": {},
   "outputs": [
    {
     "data": {
      "text/html": [
       "<ol class=list-inline>\n",
       "\t<li>21</li>\n",
       "\t<li>187</li>\n",
       "</ol>\n"
      ],
      "text/latex": [
       "\\begin{enumerate*}\n",
       "\\item 21\n",
       "\\item 187\n",
       "\\end{enumerate*}\n"
      ],
      "text/markdown": [
       "1. 21\n",
       "2. 187\n",
       "\n",
       "\n"
      ],
      "text/plain": [
       "[1]  21 187"
      ]
     },
     "metadata": {},
     "output_type": "display_data"
    },
    {
     "data": {
      "text/html": [
       "<table>\n",
       "<thead><tr><th></th><th scope=col>id</th><th scope=col>na</th></tr></thead>\n",
       "<tbody>\n",
       "\t<tr><th scope=row>21</th><td>21  </td><td>2625</td></tr>\n",
       "</tbody>\n",
       "</table>\n"
      ],
      "text/latex": [
       "\\begin{tabular}{r|ll}\n",
       "  & id & na\\\\\n",
       "\\hline\n",
       "\t21 & 21   & 2625\\\\\n",
       "\\end{tabular}\n"
      ],
      "text/markdown": [
       "\n",
       "| <!--/--> | id | na | \n",
       "|---|\n",
       "| 21 | 21   | 2625 | \n",
       "\n",
       "\n"
      ],
      "text/plain": [
       "   id na  \n",
       "21 21 2625"
      ]
     },
     "metadata": {},
     "output_type": "display_data"
    }
   ],
   "source": [
    "(which(Missing[,2]>2000))\n",
    "(Missing[21,])"
   ]
  }
 ],
 "metadata": {
  "kernelspec": {
   "display_name": "R",
   "language": "R",
   "name": "ir"
  },
  "language_info": {
   "codemirror_mode": "r",
   "file_extension": ".r",
   "mimetype": "text/x-r-source",
   "name": "R",
   "pygments_lexer": "r",
   "version": "3.5.1"
  }
 },
 "nbformat": 4,
 "nbformat_minor": 2
}
